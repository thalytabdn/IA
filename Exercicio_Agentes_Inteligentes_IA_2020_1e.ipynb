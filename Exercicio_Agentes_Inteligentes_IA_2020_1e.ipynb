{
  "nbformat": 4,
  "nbformat_minor": 0,
  "metadata": {
    "colab": {
      "name": "Thalyta_Nascimento-Exercicio_Agentes_Inteligentes_IA_2020_1e.ipynb",
      "provenance": [],
      "collapsed_sections": [],
      "include_colab_link": true
    },
    "kernelspec": {
      "name": "python3",
      "display_name": "Python 3"
    }
  },
  "cells": [
    {
      "cell_type": "markdown",
      "metadata": {
        "id": "view-in-github",
        "colab_type": "text"
      },
      "source": [
        "<a href=\"https://colab.research.google.com/github/thalytabdn/IA/blob/main/Exercicio_Agentes_Inteligentes_IA_2020_1e.ipynb\" target=\"_parent\"><img src=\"https://colab.research.google.com/assets/colab-badge.svg\" alt=\"Open In Colab\"/></a>"
      ]
    },
    {
      "cell_type": "markdown",
      "metadata": {
        "id": "-HZBbk6GcB6q"
      },
      "source": [
        "# Exercício sobre agentes inteligentes\n",
        "\n",
        "Para este primeiro exercício, vamos criar um agente inteligente baseado no [aimacode](https://github.com/aimacode)."
      ]
    },
    {
      "cell_type": "markdown",
      "metadata": {
        "id": "7Gv7-affdaTP"
      },
      "source": [
        "## Criando agentes\n",
        "\n",
        "Inicialmente deveremos criar nossos agentes. Para isso, vamos criar uma classe genérica para representar uma **coisa** e um **agente**. \n",
        "A **coisa**, como o nome já diz, pode ser qualquer coisa (e.g. um agente, uma rocha, um alimento etc.).\n",
        "O **agente** inicialmente esta vivo, não colidiu com nada, não segura nada, e tem sua performance zerada.\n",
        "Um **agente** deve estar inserido em um ambiente para poder interagir, logo criaremos este também."
      ]
    },
    {
      "cell_type": "code",
      "metadata": {
        "id": "YXgHP-_EdmGn"
      },
      "source": [
        "import collections\n",
        "\n",
        "class Thing:\n",
        "    def __repr__(self):\n",
        "        return '<{}>'.format(getattr(self, '__name__', self.__class__.__name__))\n",
        "\n",
        "    def is_alive(self):\n",
        "        \"\"\"Things that are 'alive' should return true.\"\"\"\n",
        "        return hasattr(self, 'alive') and self.alive\n",
        "\n",
        "    def show_state(self):\n",
        "        \"\"\"Display the agent's internal state. Subclasses should override.\"\"\"\n",
        "        print(\"I don't know how to show_state.\")\n",
        "\n",
        "    def display(self, canvas, x, y, width, height):\n",
        "        \"\"\"Display an image of this Thing on the canvas.\"\"\"\n",
        "        # Do we need this?\n",
        "        pass\n",
        "\n",
        "class Agent(Thing):\n",
        "    def __init__(self, program=None):\n",
        "        self.alive = True\n",
        "        self.bump = False\n",
        "        self.holding = []\n",
        "        self.performance = 0\n",
        "        if program is None or not isinstance(program, collections.Callable):\n",
        "            print(\"Can't find a valid program for {}, falling back to default.\".format(\n",
        "                self.__class__.__name__))\n",
        "\n",
        "            def program(percept):\n",
        "                return eval(input('Percept={}; action? '.format(percept)))\n",
        "\n",
        "        self.program = program\n",
        "        \n",
        "class Environment:\n",
        "    def __init__(self):\n",
        "        self.things = []\n",
        "        self.agents = []\n",
        "\n",
        "    def thing_classes(self):\n",
        "        return []  # List of classes that can go into environment\n",
        "\n",
        "    def percept(self, agent):\n",
        "        \"\"\"Return the percept that the agent sees at this point. (Implement this.)\"\"\"\n",
        "        raise NotImplementedError\n",
        "\n",
        "    def execute_action(self, agent, action):\n",
        "        \"\"\"Change the world to reflect this action. (Implement this.)\"\"\"\n",
        "        raise NotImplementedError\n",
        "\n",
        "    def default_location(self, thing):\n",
        "        \"\"\"Default location to place a new thing with unspecified location.\"\"\"\n",
        "        return None\n",
        "\n",
        "    def exogenous_change(self):\n",
        "        \"\"\"If there is spontaneous change in the world, override this.\"\"\"\n",
        "        pass\n",
        "\n",
        "    def is_done(self):\n",
        "        \"\"\"By default, we're done when we can't find a live agent.\"\"\"\n",
        "        return not any(agent.is_alive() for agent in self.agents)\n",
        "\n",
        "    def step(self):\n",
        "        \"\"\"Run the environment for one time step. If the\n",
        "        actions and exogenous changes are independent, this method will\n",
        "        do. If there are interactions between them, you'll need to\n",
        "        override this method.\"\"\"\n",
        "        if not self.is_done():\n",
        "            actions = []\n",
        "            for agent in self.agents:\n",
        "                if agent.alive:\n",
        "                    actions.append(agent.program(self.percept(agent)))\n",
        "                else:\n",
        "                    actions.append(\"\")\n",
        "            for (agent, action) in zip(self.agents, actions):\n",
        "                self.execute_action(agent, action)\n",
        "            self.exogenous_change()\n",
        "\n",
        "    def run(self, steps=1000):\n",
        "        \"\"\"Run the Environment for given number of time steps.\"\"\"\n",
        "        for step in range(steps):\n",
        "            if self.is_done():\n",
        "                return\n",
        "            self.step()\n",
        "\n",
        "    def list_things_at(self, location, tclass=Thing):\n",
        "        \"\"\"Return all things exactly at a given location.\"\"\"\n",
        "        return [thing for thing in self.things\n",
        "                if thing.location == location and isinstance(thing, tclass)]\n",
        "\n",
        "    def some_things_at(self, location, tclass=Thing):\n",
        "        \"\"\"Return true if at least one of the things at location\n",
        "        is an instance of class tclass (or a subclass).\"\"\"\n",
        "        return self.list_things_at(location, tclass) != []\n",
        "\n",
        "    def add_thing(self, thing, location=None):\n",
        "        \"\"\"Add a thing to the environment, setting its location. For\n",
        "        convenience, if thing is an agent program we make a new agent\n",
        "        for it. (Shouldn't need to override this.)\"\"\"\n",
        "        if not isinstance(thing, Thing):\n",
        "            thing = Agent(thing)\n",
        "        if thing in self.things:\n",
        "            print(\"Can't add the same thing twice\")\n",
        "        else:\n",
        "            thing.location = location if location is not None else self.default_location(thing)\n",
        "            self.things.append(thing)\n",
        "            if isinstance(thing, Agent):\n",
        "                thing.performance = 0\n",
        "                self.agents.append(thing)\n",
        "\n",
        "    def delete_thing(self, thing):\n",
        "        \"\"\"Remove a thing from the environment.\"\"\"\n",
        "        try:\n",
        "            self.things.remove(thing)\n",
        "        except ValueError as e:\n",
        "            print(e)\n",
        "            print(\"  in Environment delete_thing\")\n",
        "            print(\"  Thing to be removed: {} at {}\".format(thing, thing.location))\n",
        "            print(\"  from list: {}\".format([(thing, thing.location) for thing in self.things]))\n",
        "        if thing in self.agents:\n",
        "            self.agents.remove(thing)"
      ],
      "execution_count": null,
      "outputs": []
    },
    {
      "cell_type": "markdown",
      "metadata": {
        "id": "whnjbRGbgQw6"
      },
      "source": [
        "Agora criaremos o **ambiente** em que o nosso **agente** estará, que será um **parque**, o qual pode ter **comida** e **água** em qualquer parte dele. O **parque** será simplificado e terá apenas um caminho que o agente poderá seguir."
      ]
    },
    {
      "cell_type": "code",
      "metadata": {
        "id": "7qhtQs7LgyHj"
      },
      "source": [
        "class Food(Thing):\n",
        "    pass\n",
        "\n",
        "class Water(Thing):\n",
        "    pass\n",
        "\n",
        "class Park(Environment):\n",
        "    def percept(self, agent):\n",
        "        '''return a list of things that are in our agent's location'''\n",
        "        things = self.list_things_at(agent.location)\n",
        "        return things\n",
        "    \n",
        "    def execute_action(self, agent, action):\n",
        "        '''changes the state of the environment based on what the agent does.'''\n",
        "        if action == \"walk\":\n",
        "            print('{} decided to {} at location: {}'.format(str(agent)[1:-1], action, agent.location))\n",
        "            agent.walk()\n",
        "        elif action == \"eat\":\n",
        "            items = self.list_things_at(agent.location, tclass=Food)\n",
        "            if len(items) != 0:\n",
        "                if agent.eat(items[0]): #Have the dog eat the first item\n",
        "                    print('{} ate {} at location: {}'\n",
        "                          .format(str(agent)[1:-1], str(items[0])[1:-1], agent.location))\n",
        "                    self.delete_thing(items[0]) #Delete it from the Park after.\n",
        "        elif action == \"drink\":\n",
        "            items = self.list_things_at(agent.location, tclass=Water)\n",
        "            if len(items) != 0:\n",
        "                if agent.drink(items[0]): #Have the dog drink the first item\n",
        "                    print('{} drank {} at location: {}'\n",
        "                          .format(str(agent)[1:-1], str(items[0])[1:-1], agent.location))\n",
        "                    self.delete_thing(items[0]) #Delete it from the Park after.\n",
        "\n",
        "    def is_done(self):\n",
        "        '''By default, we're done when we can't find a live agent, \n",
        "        but to prevent killing our cute dog, we will stop before itself - when there is no more food or water'''\n",
        "        no_edibles = not any(isinstance(thing, Food) or isinstance(thing, Water) for thing in self.things)\n",
        "        dead_agents = not any(agent.is_alive() for agent in self.agents)\n",
        "        return dead_agents or no_edibles"
      ],
      "execution_count": null,
      "outputs": []
    },
    {
      "cell_type": "markdown",
      "metadata": {
        "id": "FIsJGLEzeJ0Y"
      },
      "source": [
        "Agora vamos criar nosso primeiro agente. Ele será um **cachorro** que não enxerga muito bem, mas está com fome e com sede. "
      ]
    },
    {
      "cell_type": "code",
      "metadata": {
        "id": "3OEyX5TlgClv"
      },
      "source": [
        "class BlindDog(Agent):\n",
        "    location = 1\n",
        "    \n",
        "    def walk(self):\n",
        "        self.location += 1\n",
        "        \n",
        "    def eat(self, thing):\n",
        "        '''returns True upon success or False otherwise'''\n",
        "        if isinstance(thing, Food):\n",
        "            return True\n",
        "        return False\n",
        "    \n",
        "    def drink(self, thing):\n",
        "        ''' returns True upon success or False otherwise'''\n",
        "        if isinstance(thing, Water):\n",
        "            return True\n",
        "        return False"
      ],
      "execution_count": null,
      "outputs": []
    },
    {
      "cell_type": "markdown",
      "metadata": {
        "id": "w7GOYbwAh4rT"
      },
      "source": [
        "Agora implementaremos o programa que o agente inteligente utilizará. \n",
        "Ele irá controlar como o cachorro irá interagir sobre o ambiente, de acordo com a tabela abaixo:\n",
        "\n",
        "| Percepção          | Ação    | \n",
        "|---------------------------|-------------|\n",
        "| Sentir comida    |  Comer |\n",
        "| Sentir água         | Beber   |\n",
        "| Não sentir nada | Andar   |"
      ]
    },
    {
      "cell_type": "code",
      "metadata": {
        "id": "wIh_Nz2JkJT_"
      },
      "source": [
        "def program(percepts):\n",
        "    '''Returns an action based on the dog's percepts'''\n",
        "    for p in percepts:\n",
        "        if isinstance(p, Food):\n",
        "            return 'eat'\n",
        "        elif isinstance(p, Water):\n",
        "            return 'drink'\n",
        "    return 'walk'"
      ],
      "execution_count": null,
      "outputs": []
    },
    {
      "cell_type": "markdown",
      "metadata": {
        "id": "Z8KIO8rDkjQE"
      },
      "source": [
        "Agora vamos rodar nossa simulação, criando o parque, com água e comida, além do nosso cachorro."
      ]
    },
    {
      "cell_type": "code",
      "metadata": {
        "id": "EYOt-1rulfcP",
        "colab": {
          "base_uri": "https://localhost:8080/"
        },
        "outputId": "0a60095a-6025-4ddc-cdd0-19fa930fc488"
      },
      "source": [
        "park = Park()\n",
        "dog = BlindDog(program)\n",
        "dogfood = Food()\n",
        "water = Water()\n",
        "park.add_thing(dog, 1)\n",
        "park.add_thing(dogfood, 5)\n",
        "park.add_thing(water, 7)\n",
        "\n",
        "park.run(5)"
      ],
      "execution_count": null,
      "outputs": [
        {
          "output_type": "stream",
          "text": [
            "BlindDog decided to walk at location: 1\n",
            "BlindDog decided to walk at location: 2\n",
            "BlindDog decided to walk at location: 3\n",
            "BlindDog decided to walk at location: 4\n",
            "BlindDog ate Food at location: 5\n"
          ],
          "name": "stdout"
        },
        {
          "output_type": "stream",
          "text": [
            "/usr/local/lib/python3.7/dist-packages/ipykernel_launcher.py:26: DeprecationWarning: Using or importing the ABCs from 'collections' instead of from 'collections.abc' is deprecated since Python 3.3,and in 3.9 it will stop working\n"
          ],
          "name": "stderr"
        }
      ]
    },
    {
      "cell_type": "markdown",
      "metadata": {
        "id": "3qGZpsf8ly9N"
      },
      "source": [
        "Veja que o cachorro andou 4 posições e na quinta parou e comeu.\n",
        "Vamos continuar, para ver se ele encontra a água."
      ]
    },
    {
      "cell_type": "code",
      "metadata": {
        "id": "8ioHZjmZpYBj",
        "colab": {
          "base_uri": "https://localhost:8080/"
        },
        "outputId": "f371f5c7-decb-4f0d-a65a-234d165a252c"
      },
      "source": [
        "park.run(5)"
      ],
      "execution_count": null,
      "outputs": [
        {
          "output_type": "stream",
          "text": [
            "BlindDog decided to walk at location: 5\n",
            "BlindDog decided to walk at location: 6\n",
            "BlindDog drank Water at location: 7\n"
          ],
          "name": "stdout"
        }
      ]
    },
    {
      "cell_type": "markdown",
      "metadata": {
        "id": "E7Ny7KTGpt-5"
      },
      "source": [
        "Vamos adicionar mais água no parque."
      ]
    },
    {
      "cell_type": "code",
      "metadata": {
        "id": "7RxuSz1tpz6b",
        "colab": {
          "base_uri": "https://localhost:8080/"
        },
        "outputId": "bf8cd9c9-e23f-45d0-82fe-63db1a88ec42"
      },
      "source": [
        "park.add_thing(water, 15)\n",
        "park.run(10)"
      ],
      "execution_count": null,
      "outputs": [
        {
          "output_type": "stream",
          "text": [
            "BlindDog decided to walk at location: 7\n",
            "BlindDog decided to walk at location: 8\n",
            "BlindDog decided to walk at location: 9\n",
            "BlindDog decided to walk at location: 10\n",
            "BlindDog decided to walk at location: 11\n",
            "BlindDog decided to walk at location: 12\n",
            "BlindDog decided to walk at location: 13\n",
            "BlindDog decided to walk at location: 14\n",
            "BlindDog drank Water at location: 15\n"
          ],
          "name": "stdout"
        }
      ]
    },
    {
      "cell_type": "markdown",
      "metadata": {
        "id": "kanbckzpp0dr"
      },
      "source": [
        "Novamente ele conseguiu beber a água."
      ]
    },
    {
      "cell_type": "markdown",
      "metadata": {
        "id": "GBnIIak_rBY7"
      },
      "source": [
        "\n",
        "---\n",
        "\n",
        "Agora é sua vez! Mude seu cachorro para que, quando ele encontrar uma árvore no parque, ele faça xixi (desde que tenha bebido água recentemente; para fazer xixi novamente ele precisará beber mais água). Ele também deverá mudar sua direção 80% das vezes que  avistar uma serpente. Para a mudança de direção, alterar a função *walk* para que decremente a coordenada de localização - só voltar a fazer incrementos quando houver nova mudança de direção. Se o cachorro atingir os limites do parque (coordenadas do cachorro fora das dimensões do parque) ele então deverá ser removido do parque (marcado como not *alive*) e não mais interagir.\n",
        "\n",
        "\n",
        "---\n",
        "\n",
        "Para isso, você deve:\n",
        "\n",
        "*   criar *Arvore* e *Serpente* (que podem ser \"coisas\").\n",
        "*   criar a nova classe *Dog2* (estendendo a classe *BlindDog*) que faz xixi quando encontra uma árvore (desde que tenha bebido água recentemente) e muda de direção 80% das vezes que encontrar uma serpente.\n",
        "*   criar a nova classe *Park2* (estendendo a classe *Park*), modificar o construtor (para especificar o tamanho do parque) e os métodos *execute_action* e *is_done* para executar o que é solicitado.\n",
        "\n",
        "Além disso, rodar a simulação novamente, adicionando uma árvore e duas serpentes no parque (conforme código apresentado na célula abaixo), para testar se seu comportamento está alinhado com o que foi solicitado. Lembre-se que o cachorro deve continuar bebendo e comendo normalmente. "
      ]
    },
    {
      "cell_type": "code",
      "metadata": {
        "id": "Jli-o_b-p6xO"
      },
      "source": [
        "# Faça aqui seu agente e ambiente\n",
        "import random\n",
        "\n",
        "class Tree(Thing):\n",
        "  pass\n",
        "\n",
        "class Serpent(Thing):\n",
        "  pass\n",
        "\n",
        "class Dog2(BlindDog):\n",
        "\n",
        "  runSerpent = True\n",
        "  drinkLocation = None\n",
        "\n",
        "  def walk(self):\n",
        "    if(self.runSerpent):\n",
        "      self.location += 1\n",
        "    else:\n",
        "      self.location -= 1\n",
        "  \n",
        "  def drink(self,thing):\n",
        "    ''' returns True upon success or False otherwise'''\n",
        "    if isinstance(thing, Water):\n",
        "      self.drinkLocation = self.location\n",
        "      return True\n",
        "    return False\n",
        "\n",
        "  def pee(self, thing):\n",
        "    '''returns True upon sucess or False otherwise'''\n",
        "    if isinstance(thing, Tree):\n",
        "      if (self.drinkLocation != None and abs(self.location - self.drinkLocation) <= 3):\n",
        "        self.drinkLocation = None\n",
        "        return True\n",
        "      else:\n",
        "        return False\n",
        "  \n",
        "  def avoidSerpent(self, thing):\n",
        "    '''returns True upon sucess or False otherwise '''\n",
        "    if isinstance(thing, Serpent):\n",
        "      self.runSerpent = False\n",
        "    else:\n",
        "      self.runSerpent = True\n",
        "\n",
        "    return True\n",
        "\n",
        "class Park2(Park):\n",
        "  def __init__(self, size):\n",
        "    self.size = size\n",
        "    self.things = []\n",
        "    self.agents = []\n",
        "   \n",
        "  def execute_action(self, agent, action):\n",
        "    '''changes the state of the environment based on what the agent does.'''\n",
        "    if action == \"walk\":\n",
        "      print('{} decided to {} at location: {}'.format(str(agent)[1:-1], action, agent.location))\n",
        "      agent.walk()\n",
        "    elif action == \"eat\":\n",
        "      items = self.list_things_at(agent.location, tclass=Food)\n",
        "      if len(items) != 0:\n",
        "        if agent.eat(items[0]): #Have the dog eat the first item\n",
        "          print('{} ate {} at location: {}'\n",
        "            .format(str(agent)[1:-1], str(items[0])[1:-1], agent.location))\n",
        "          self.delete_thing(items[0]) #Delete it from the Park after.\n",
        "    elif action == \"drink\":\n",
        "      items = self.list_things_at(agent.location, tclass=Water)\n",
        "      if len(items) != 0:\n",
        "        if agent.drink(items[0]): #Have the dog drink the first item\n",
        "          print('{} drank {} at location: {}'\n",
        "            .format(str(agent)[1:-1], str(items[0])[1:-1], agent.location))\n",
        "          self.delete_thing(items[0]) #Delete it from the Park after.\n",
        "    elif action == \"pee\":\n",
        "      items = self.list_things_at(agent.location, tclass=Tree)\n",
        "      if len(items) != 0:\n",
        "        if agent.pee(items[0]): #Have the dog find the tree in the first item\n",
        "          print('{} find the tree {} at location: {}'\n",
        "            .format(str(agent)[1:-1], str(items[0])[1:-1], agent.location))\n",
        "    elif action == \"avoidSerpent\":\n",
        "      items = self.list_things_at(agent.location, tclass=Serpent)\n",
        "      if len(items) != 0:\n",
        "        if agent.avoidSerpent(items[0]): #Have the dog find the serpent in first intem\n",
        "          print('{} find the serpent {} at location: {}'\n",
        "            .format(str(agent)[1:-1], str(items[0])[1:-1], agent.location))\n",
        "          self.delete_thing(items[0]) #Delete it from the Park after.\n",
        "\n",
        "    def is_done(self):\n",
        "        location = None\n",
        "        for agent in self.agents:\n",
        "          if (isinstance(agent, Dog2)):\n",
        "            location = agent.location\n",
        "      \n",
        "        return (location < 0 or location > self.limit)\n"
      ],
      "execution_count": null,
      "outputs": []
    },
    {
      "cell_type": "markdown",
      "metadata": {
        "id": "Otr0irkrvrYx"
      },
      "source": [
        "Para testar se sua simulação está correta, utilize o código abaixo."
      ]
    },
    {
      "cell_type": "code",
      "metadata": {
        "id": "NrOeDf9rxKjl",
        "colab": {
          "base_uri": "https://localhost:8080/"
        },
        "outputId": "d492ecd2-9981-46ab-a591-48a71d9ad1bb"
      },
      "source": [
        "park = Park2(20)\n",
        "dog = Dog2(program)\n",
        "dogfood = Food()\n",
        "water = Water()\n",
        "tree = Tree()\n",
        "serpent = Serpent()\n",
        "park.add_thing(dog, 1)\n",
        "park.add_thing(serpent, 3)\n",
        "park.add_thing(dogfood, 5)\n",
        "park.add_thing(water, 7)\n",
        "park.add_thing(tree, 12)\n",
        "park.add_thing(water, 13)\n",
        "park.add_thing(serpent, 14)\n",
        "\n",
        "park.run(30)\n"
      ],
      "execution_count": null,
      "outputs": [
        {
          "output_type": "stream",
          "text": [
            "Can't add the same thing twice\n",
            "Can't add the same thing twice\n",
            "Dog2 decided to walk at location: 1\n",
            "Dog2 decided to walk at location: 2\n",
            "Dog2 decided to walk at location: 3\n",
            "Dog2 decided to walk at location: 4\n",
            "Dog2 ate Food at location: 5\n",
            "Dog2 decided to walk at location: 5\n",
            "Dog2 decided to walk at location: 6\n",
            "Dog2 drank Water at location: 7\n"
          ],
          "name": "stdout"
        }
      ]
    },
    {
      "cell_type": "markdown",
      "metadata": {
        "id": "gd45d7JXwBra"
      },
      "source": [
        "Por último, indique quais os tipos do ambiente: \n",
        "\n",
        "Completamente ou parcialmente observável? Deterministico, estratégico ou estocástico? Episódico ou sequencial? Estático ou dinâmico? Discreto ou contínuo? Único agente ou multiagente?"
      ]
    },
    {
      "cell_type": "markdown",
      "metadata": {
        "id": "K0Oy9HsSzvsZ"
      },
      "source": [
        "*Informe aqui os tipos de ambiente*\n",
        "\n",
        "- Parcialmente observável,\n",
        "- Estocástico,\n",
        "- Sequêncial\n",
        "- Estático\n",
        "- Discreto\n",
        "- Multiagente"
      ]
    }
  ]
}